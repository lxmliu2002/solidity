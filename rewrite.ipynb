{
 "cells": [
  {
   "cell_type": "code",
<<<<<<< HEAD
   "execution_count": 2,
=======
   "execution_count": 7,
>>>>>>> 4e252079b9f4fdd097688aed3925a62d49662edc
   "metadata": {},
   "outputs": [
    {
     "name": "stderr",
     "output_type": "stream",
     "text": [
<<<<<<< HEAD
      "100%|██████████| 6/6 [00:00<00:00, 670.21it/s]"
=======
      "100%|██████████| 6/6 [00:00<00:00, 1119.58it/s]"
>>>>>>> 4e252079b9f4fdd097688aed3925a62d49662edc
     ]
    },
    {
     "name": "stdout",
     "output_type": "stream",
     "text": [
<<<<<<< HEAD
      "Total Time Cost: 0.01275634765625\n",
      "Average Time Cost: 0.0021260579427083335\n"
=======
      "/home/lxm/solidity/a/0x5f73dbb6f3fa6444b11a8e1880dce25c5e7ad862_newNFT/complete_newNFT.sol\n",
      "Total Time Cost: 0.008904695510864258\n",
      "Average Time Cost: 0.0014841159184773762\n"
>>>>>>> 4e252079b9f4fdd097688aed3925a62d49662edc
     ]
    },
    {
     "name": "stderr",
     "output_type": "stream",
     "text": [
      "\n"
     ]
    }
   ],
   "source": [
    "import os\n",
    "import re\n",
    "import json\n",
    "from tqdm import tqdm\n",
    "import traceback\n",
    "import time\n",
    "\n",
    "\n",
    "def delete_comments(allstr):\n",
    "    allstrs = allstr.split(\"\\n\")\n",
    "    mark = 1\n",
    "    newstr = \"\"\n",
    "    for str in allstrs:\n",
    "        strs = str.split(\"\\\"\")\n",
    "        for i in range(len(strs)):\n",
    "            if mark == 0:\n",
    "                if strs[i].find(\"*/\") !=-1:\n",
    "                    ss = strs[i].split(\"*/\")\n",
    "                    if len(ss) >= 1:\n",
    "                        newstr += ss[1]\n",
    "                    mark = 1\n",
    "                    continue\n",
    "                else:\n",
    "                    continue\n",
    "            if i % 2 == 0 and mark == 1:\n",
    "                if strs[i].find(\"//\") !=-1:\n",
    "                    ss = strs[i].split(\"//\")\n",
    "                    newstr += ss[0]\n",
    "                    break\n",
    "                if strs[i].find(\"/*\") !=-1:\n",
    "                    ss = strs[i].split(\"/*\")\n",
    "                    newstr += ss[0]\n",
    "                    if strs[i].find(\"*/\") !=-1:\n",
    "                        ss2 = ss[1].split(\"*/\")\n",
    "                        newstr += ss2[1]\n",
    "                    else:\n",
    "                        mark = 0\n",
    "                    continue\n",
    "            newstr += strs[i]\n",
    "            if i != len(strs)-1 : newstr += \"\\\"\"\n",
    "        newstr += \"\\n\"\n",
    "    return newstr\n",
    "\n",
    "def check_sol_files(directory):\n",
    "    \"\"\"Check for Solidity files in the given directory.\"\"\"\n",
    "    return [filename for filename in os.listdir(directory) if filename.endswith('.sol')]\n",
    "\n",
    "def get_filename(path):\n",
    "    \"\"\"Extract and filename from metadata or inpage_meta files.\"\"\"\n",
    "    filename = None\n",
    "    try:\n",
    "        if os.path.exists(os.path.join(path, \"metadata.json\")):\n",
    "            with open(os.path.join(path, \"metadata.json\"), 'r') as f:\n",
    "                content = json.load(f)\n",
    "                filename = content[\"contract_name\"]\n",
    "        if filename is not None:\n",
    "            return filename\n",
    "        if os.path.exists(os.path.join(path, \"inpage_meta.json\")):\n",
    "            with open(os.path.join(path, \"inpage_meta.json\"), 'r') as f:\n",
    "                content = json.load(f)\n",
    "                filename = content[\"contract_name\"]\n",
    "                if any(item.endswith(\"_\" + filename + \".sol\") for item in os.listdir(path)):\n",
    "                    filename = [item for item in os.listdir(path) if item.endswith(\"_\" + filename + \".sol\")][0]\n",
    "                if not filename.endswith(\".sol\"):\n",
    "                    filename += \".sol\"\n",
    "    except:\n",
    "        pass\n",
    "    return filename\n",
    "\n",
    "def handle_error(e, p, filename=None):\n",
    "    \"\"\"Handle errors and write traceback to a file.\"\"\"\n",
    "    with open(os.path.join(\"/home/lxm/solidity/error\", p + \".log\"), \"w\") as file:\n",
    "        file.write(traceback.format_exc())\n",
    "\n",
    "def get_contents(input_file_path):\n",
    "    pattern_pragma = r'pragma\\s+solidity\\s+(\\^?>?=?\\d+\\.\\d+\\.\\d+);'\n",
    "    pattern_import = r\"import\\s+[\\'\\\"](.+?)[\\'\\\"]\\;\"\n",
    "    pattern_from = r\"import\\s*{.*}\\s*from\\s*[\\'\\\"](.+?)[\\'\\\"]\\;\"\n",
    "    \n",
    "    with open(input_file_path, 'r') as f:\n",
    "        data = f.read()\n",
    "    data = re.sub(pattern_import, '', data)\n",
    "    data = re.sub(pattern_pragma, '', data)\n",
    "    data = re.sub(pattern_from, '', data)\n",
    "    data = delete_comments(data)\n",
    "    data = \"\\n\".join([i for i in data.split(\"\\n\") if i.strip() != \"\"])\n",
    "    \n",
    "    data += '\\n'\n",
    "    return data\n",
    "\n",
    "def file_import(filepath, G:dict = None, original_dict:dict = None, delete_dict:dict = None):\n",
    "    if G is None:\n",
    "        G = {}\n",
    "    if original_dict is None:\n",
    "        original_dict = {}\n",
    "    if delete_dict is None:\n",
    "        delete_dict = {}\n",
    "    try:\n",
    "        with open(filepath, 'r', encoding='utf-8') as f:\n",
    "            data = f.read()\n",
<<<<<<< HEAD
=======
    "        # pattern = r\"(import\\s+[\\'\\\"](.+?)[\\'\\\"]\\;)|(import\\s+[\\'\\\"](.+?)[\\'\\\"]\\s*from\\s*[\\'\\\"](.+?)[\\'\\\"]\\;)\"\n",
>>>>>>> 4e252079b9f4fdd097688aed3925a62d49662edc
    "        pattern_import = r\"import\\s+[\\'\\\"](.+?)[\\'\\\"]\\;\"\n",
    "        pattern_from = r\"import\\s*{.*}\\s*from\\s*[\\'\\\"](.+?)[\\'\\\"]\\;\"\n",
    "        \n",
    "        file_name = os.path.basename(filepath)\n",
<<<<<<< HEAD
=======
    "        # print(file_name)\n",
>>>>>>> 4e252079b9f4fdd097688aed3925a62d49662edc
    "        if file_name not in G:\n",
    "            G[file_name] = []\n",
    "        if file_name not in original_dict:\n",
    "            matches = re.findall(pattern_import + '|' + pattern_from, data)\n",
    "            need_add_import = []\n",
    "            for match in matches:\n",
    "                if match[0]:\n",
    "                    matchname = match[0]\n",
    "                else:\n",
    "                    matchname = match[1]\n",
    "\n",
    "                matchpath = os.path.join(os.path.dirname(filepath), matchname[2:])\n",
    "                if os.path.exists(matchpath):\n",
    "                    file_import(matchpath, G, original_dict, delete_dict)\n",
    "                if matchname not in G[file_name]:\n",
    "                    G[file_name].append(matchname)\n",
    "                if match[1] and matchname not in need_add_import:\n",
    "                    need_add_import.append(matchname[2:])\n",
    "\n",
    "                \n",
    "            original_dict[file_name] = get_contents(filepath)\n",
    "            delete_dict[file_name] = get_contents(filepath)\n",
    "\n",
    "            if need_add_import:\n",
    "                tmp:str = \"\"\n",
    "                for name in need_add_import:\n",
    "                    tmp = tmp + delete_dict[name]\n",
    "                    del delete_dict[name]\n",
    "                delete_dict[file_name] = tmp + delete_dict[file_name]\n",
    "\n",
    "    except Exception as e:\n",
    "        pass\n",
    "    \n",
    "    return G, original_dict, delete_dict\n",
    "    \n",
    "\n",
    "def get_version(input_file, output_file):\n",
    "    pattern = r'pragma\\s+solidity\\s+(\\^?>?=?\\d+\\.\\d+\\.\\d+);'\n",
    "    with open(input_file, 'r') as f:\n",
    "        content = f.read()\n",
    "\n",
    "    matches = re.finditer(pattern, content)\n",
    "    with open(output_file, 'w') as matched_f:\n",
    "        last_end = 0\n",
    "        for match in matches:\n",
    "            start_index = match.start()\n",
<<<<<<< HEAD
=======
    "            # end_index = match.end()\n",
>>>>>>> 4e252079b9f4fdd097688aed3925a62d49662edc
    "            matched_content = match.group(0)\n",
    "            preceding_content = content[last_end:start_index]\n",
    "            matched_f.write(preceding_content + matched_content + '\\n')\n",
    "            break\n",
<<<<<<< HEAD
=======
    "            # last_end = end_index\n",
    "        # remaining_content = content[last_end:]\n",
    "        # remaining_f.write(remaining_content)\n",
    "    # get_contents(remaining_filepath, filter_f)\n",
>>>>>>> 4e252079b9f4fdd097688aed3925a62d49662edc
    "\n",
    "def process_directory(source_code_folder):\n",
    "    for p in tqdm(os.listdir(source_code_folder)):\n",
    "        path = os.path.join(source_code_folder, p)\n",
    "        try:\n",
    "            if not check_sol_files(path):\n",
    "                raise FileNotFoundError(\"Error: No contracts found.\")\n",
    "            filename = get_filename(path)\n",
    "            output_filename = \"complete_\" + filename\n",
<<<<<<< HEAD
    "            filepath = os.path.join(path, filename)\n",
    "            out_filepath = os.path.join(path, output_filename)\n",
    "\n",
=======
    "            # remaining_filename = \"remaining.sol\"\n",
    "            filepath = os.path.join(path, filename)\n",
    "            out_filepath = os.path.join(path, output_filename)\n",
    "            # print(out_filepath)\n",
    "            # remaining_filepath = os.path.join(path, remaining_filename)\n",
>>>>>>> 4e252079b9f4fdd097688aed3925a62d49662edc
    "            \n",
    "            get_version(filepath, out_filepath)\n",
    "            \n",
    "            G, original_dict, delete_dict = file_import(filepath)\n",
    "            with open(out_filepath, 'a') as f:\n",
    "                for file_name, contents in delete_dict.items():\n",
    "                    f.write(contents)\n",
    "            \n",
    "        except FileNotFoundError as e:\n",
    "            handle_error(e, p)\n",
    "        except Exception as e:\n",
    "            handle_error(e, p)\n",
    "\n",
    "if __name__ == \"__main__\":\n",
    "    st = time.time()\n",
    "    \n",
    "    source_code_folder = '/home/lxm/solidity/a'\n",
    "    \n",
    "    process_directory(source_code_folder)\n",
    "\n",
    "    ed = time.time()\n",
    "    print(\"Total Time Cost:\",ed - st)\n",
    "    print(\"Average Time Cost:\", (ed - st) / len(os.listdir(source_code_folder)))"
   ]
  }
 ],
 "metadata": {
  "kernelspec": {
   "display_name": "Python 3",
   "language": "python",
   "name": "python3"
  },
  "language_info": {
   "codemirror_mode": {
    "name": "ipython",
    "version": 3
   },
   "file_extension": ".py",
   "mimetype": "text/x-python",
   "name": "python",
   "nbconvert_exporter": "python",
   "pygments_lexer": "ipython3",
   "version": "3.8.10"
  }
 },
 "nbformat": 4,
 "nbformat_minor": 2
}
