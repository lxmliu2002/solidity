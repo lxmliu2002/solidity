{
 "cells": [
  {
   "cell_type": "code",
   "execution_count": 6,
   "metadata": {},
   "outputs": [
    {
     "name": "stdout",
     "output_type": "stream",
     "text": [
      "<re.Match object; span=(0, 132), match='contract ERC721Upgradeable is Initializable, Cont>\n"
     ]
    }
   ],
   "source": [
    "import re\n",
    "line = \"contract ERC721Upgradeable is Initializable, ContextUpgradeable, ERC165Upgradeable, IERC721Upgradeable, IERC721MetadataUpgradeable {\"\n",
    "# contract_is_match = re.match(r'^(abstract)*\\s*contract\\s+(\\w+)\\s*is\\s*((\\÷w+),\\s*)*{', line)\n",
    "contract_is_match = re.match(r'^(abstract)*\\s*contract\\s+(\\w+)\\s*is.*{', line)\n",
    "print(contract_is_match)\n"
   ]
  },
  {
   "cell_type": "code",
   "execution_count": 16,
   "metadata": {},
   "outputs": [
    {
     "name": "stdout",
     "output_type": "stream",
     "text": [
      "['/Users/lxmliu2002/Desktop/solidity/15_21_Vault.sol', '/Users/lxmliu2002/Desktop/solidity/2_21_IERC20.sol']\n"
     ]
    }
   ],
   "source": [
    "import os\n",
    "def file_import(path, importlists:list=None, G=None):\n",
    "    if importlists is None:\n",
    "        importlists = []\n",
    "    if G is None:\n",
    "        G = {}\n",
    "    try:\n",
    "        with open(path, 'r', encoding='utf-8') as file:\n",
    "            lines = file.readlines()\n",
    "        pattern = r\"import\\s+[\\'\\\"](.+?)[\\'\\\"]\\;\"\n",
    "        pattern_from = r\"import\\s*{.*}\\s*from\\s*[\\'\\\"](.+?)[\\'\\\"]\\;\"\n",
    "        file_name = os.path.basename(path)\n",
    "        if file_name not in G:\n",
    "            G[file_name] = []\n",
    "        for line in lines:\n",
    "            if re.match(pattern, line):\n",
    "                match = re.match(pattern, line)\n",
    "                matchpath = os.path.join(os.path.dirname(path), match.group(1)[2:])\n",
    "                if os.path.exists(matchpath):\n",
    "                    file_import(matchpath, importlists, G)\n",
    "                    importlists.append(matchpath)\n",
    "                # importlists.append(matchpath)\n",
    "                if match not in G[file_name]:\n",
    "                    G[file_name].append(match)\n",
    "                continue\n",
    "            if re.match(pattern_from, line):\n",
    "                match = re.match(pattern_from, line)\n",
    "                matchpath = os.path.join(os.path.dirname(path), match.group(1)[2:])\n",
    "                # importlists.append(matchpath)\n",
    "                if os.path.exists(matchpath):\n",
    "                    file_import(matchpath, importlists, G)\n",
    "                    importlists.append(matchpath)\n",
    "                if match not in G[file_name]:\n",
    "                    G[file_name].append(match)\n",
    "                continue\n",
    "            \n",
    "\n",
    "\n",
    "        # matches = re.findall(pattern, content)\n",
    "        # file_name = os.path.basename(path)\n",
    "        # if file_name not in G:\n",
    "        #     G[file_name] = []\n",
    "        # for match in matches:\n",
    "        #     if match not in G[file_name]:\n",
    "        #         G[file_name].append(match)\n",
    "        #     matchpath = os.path.join(os.path.dirname(path), match[2:])\n",
    "        #     if os.path.exists(matchpath):\n",
    "        #         file_import(matchpath, importlists, G)\n",
    "        #         importlists.append(matchpath)\n",
    "\n",
    "    except Exception as e:\n",
    "        pass\n",
    "    return G, importlists\n",
    "\n",
    "filepath = '/Users/lxmliu2002/Desktop/solidity/test/0x703ee3e326600e9fa113eea2c693eaebadc3ce27/1_21_AssetVault.sol'\n",
    "G, importlists = file_import(filepath)\n",
    "print(importlists)"
   ]
  },
  {
   "cell_type": "code",
   "execution_count": 15,
   "metadata": {},
   "outputs": [
    {
     "name": "stdout",
     "output_type": "stream",
     "text": [
      "import { AV_WithdrawsDisabled, AV_WithdrawsEnabled, AV_AlreadyInitialized, AV_CallDisallowed, AV_NonWhitelistedCall } from \"./15_21_Vault.sol\";\n",
      "./15_21_Vault.sol\n",
      "/Users/lxmliu2002/Desktop/solidity/15_21_Vault.sol\n"
     ]
    }
   ],
   "source": [
    "import re\n",
    "\n",
    "pattern_from = r\"import\\s*{.*}\\s*from\\s*[\\'\\\"](.+?)[\\'\\\"]\\;\"\n",
    "\n",
    "filepath = \"/Users/lxmliu2002/Desktop/solidity/1.sol\"\n",
    "\n",
    "with open(filepath, 'r', encoding='utf-8') as file:\n",
    "    lines = file.readlines()\n",
    "\n",
    "for line in lines:\n",
    "    if re.match(pattern_from, line):\n",
    "        print(line)\n",
    "        match = re.match(pattern_from, line)\n",
    "        print(match.group(1))\n",
    "        print(os.path.join(os.path.dirname(filepath), match.group(1)[2:]))"
   ]
  }
 ],
 "metadata": {
  "kernelspec": {
   "display_name": "Python 3",
   "language": "python",
   "name": "python3"
  },
  "language_info": {
   "codemirror_mode": {
    "name": "ipython",
    "version": 3
   },
   "file_extension": ".py",
   "mimetype": "text/x-python",
   "name": "python",
   "nbconvert_exporter": "python",
   "pygments_lexer": "ipython3",
   "version": "3.11.7"
  }
 },
 "nbformat": 4,
 "nbformat_minor": 2
}
