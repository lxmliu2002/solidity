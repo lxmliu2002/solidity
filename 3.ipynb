{
 "cells": [
  {
   "cell_type": "code",
   "execution_count": 3,
   "metadata": {},
   "outputs": [
    {
     "name": "stderr",
     "output_type": "stream",
     "text": [
      "100%|██████████| 15.0M/15.0M [00:33<00:00, 449kiB/s] \n",
      "/home/lxm/.local/lib/python3.8/site-packages/solcx/install.py:714: UnexpectedVersionWarning: Installed solc version is v0.8.24+commit.e11b9ed9, expecting v0.8.24\n",
      "  warnings.warn(\n"
     ]
    }
   ],
   "source": [
    "import solcx\n",
    "from solcx import compile_source, compile_standard, install_solc\n",
    "\n",
    "\n",
    "def _install_solc(version):\n",
    "    install_solc(version, show_progress=True)\n",
    "\n",
    "_install_solc('0.8.24')\n"
   ]
  },
  {
   "cell_type": "code",
   "execution_count": 4,
   "metadata": {},
   "outputs": [],
   "source": [
    "import os\n",
    "def compile_contract(path, filename, setting):\n",
    "    \"\"\"Compile the contract using the given version and filename.\"\"\"\n",
    "    \n",
    "    with open(os.path.join(path, filename), \"r\", encoding='utf-8') as file:\n",
    "        sol_file = file.read()\n",
    "        setting[\"sources\"][filename] = {\"content\": sol_file}\n",
    "\n",
    "\n",
    "    compiled_sol = compile_standard(setting, allow_paths=path, solc_version='0.8.24')\n",
    "    return compiled_sol"
   ]
  },
  {
   "cell_type": "code",
   "execution_count": 27,
   "metadata": {},
   "outputs": [
    {
     "name": "stdout",
     "output_type": "stream",
     "text": [
      "mport { B } from \"./B.sol\";\n",
      "\n"
     ]
    }
   ],
   "source": [
    "with open('/home/lxm/solidity/a/A.sol', 'r', encoding='utf-8') as file:\n",
    "    sol_file = file.read()\n",
    "\n",
    "print(sol_file[60-2:60-2+28])"
   ]
  },
  {
   "cell_type": "code",
   "execution_count": 29,
   "metadata": {},
   "outputs": [],
   "source": [
    "import solcast\n",
    "import json\n",
    "import solcx\n",
    "input_json = json.load(open('input.json'))\n",
    "output_json = solcx.compile_standard(input_json)\n",
    "nodes = solcast.from_standard_output(output_json)"
   ]
  },
  {
   "cell_type": "code",
   "execution_count": 30,
   "metadata": {},
   "outputs": [
    {
     "data": {
      "text/plain": [
       "[<SourceUnit iterable 'A.sol'>,\n",
       " <SourceUnit iterable 'B.sol'>,\n",
       " <SourceUnit iterable 'C.sol'>]"
      ]
     },
     "execution_count": 30,
     "metadata": {},
     "output_type": "execute_result"
    }
   ],
   "source": [
    "nodes"
   ]
  },
  {
   "cell_type": "code",
   "execution_count": 35,
   "metadata": {},
   "outputs": [],
   "source": [
    "node = solcast.from_ast(output_json['sources']['A.sol']['ast'])"
   ]
  },
  {
   "cell_type": "code",
   "execution_count": 36,
   "metadata": {},
   "outputs": [
    {
     "data": {
      "text/plain": [
       "<SourceUnit iterable 'A.sol'>"
      ]
     },
     "execution_count": 36,
     "metadata": {},
     "output_type": "execute_result"
    }
   ],
   "source": [
    "node"
   ]
  },
  {
   "cell_type": "code",
   "execution_count": 37,
   "metadata": {},
   "outputs": [
    {
     "data": {
      "text/plain": [
       "0"
      ]
     },
     "execution_count": 37,
     "metadata": {},
     "output_type": "execute_result"
    }
   ],
   "source": [
    "node.depth"
   ]
  },
  {
   "cell_type": "code",
   "execution_count": 38,
   "metadata": {},
   "outputs": [
    {
     "data": {
      "text/plain": [
       "(34, 267)"
      ]
     },
     "execution_count": 38,
     "metadata": {},
     "output_type": "execute_result"
    }
   ],
   "source": [
    "node.offset"
   ]
  },
  {
   "cell_type": "code",
   "execution_count": 39,
   "metadata": {},
   "outputs": [
    {
     "data": {
      "text/plain": [
       "<bound method NodeBase.children of <SourceUnit iterable 'A.sol'>>"
      ]
     },
     "execution_count": 39,
     "metadata": {},
     "output_type": "execute_result"
    }
   ],
   "source": [
    "node.children"
   ]
  },
  {
   "cell_type": "code",
   "execution_count": 45,
   "metadata": {},
   "outputs": [
    {
     "data": {
      "text/plain": [
       "<PragmaDirective object>"
      ]
     },
     "execution_count": 45,
     "metadata": {},
     "output_type": "execute_result"
    }
   ],
   "source": [
    "node[0]"
   ]
  },
  {
   "cell_type": "code",
   "execution_count": 46,
   "metadata": {},
   "outputs": [
    {
     "data": {
      "text/plain": [
       "[<PragmaDirective object>,\n",
       " <ImportDirective 'B.sol'>,\n",
       " <ContractDefinition iterable 'A'>]"
      ]
     },
     "execution_count": 46,
     "metadata": {},
     "output_type": "execute_result"
    }
   ],
   "source": [
    "node.nodes"
   ]
  },
  {
   "cell_type": "code",
   "execution_count": 47,
   "metadata": {},
   "outputs": [
    {
     "data": {
      "text/plain": [
       "<ImportDirective 'B.sol'>"
      ]
     },
     "execution_count": 47,
     "metadata": {},
     "output_type": "execute_result"
    }
   ],
   "source": [
    "node[1]"
   ]
  },
  {
   "cell_type": "code",
   "execution_count": 49,
   "metadata": {},
   "outputs": [
    {
     "data": {
      "text/plain": [
       "<ContractDefinition iterable 'A'>"
      ]
     },
     "execution_count": 49,
     "metadata": {},
     "output_type": "execute_result"
    }
   ],
   "source": [
    "node[2]"
   ]
  },
  {
   "cell_type": "code",
   "execution_count": 53,
   "metadata": {},
   "outputs": [
    {
     "data": {
      "text/plain": [
       "[<VariableDeclaration 'aData'>,\n",
       " <VariableDeclaration 'bContract'>,\n",
       " <FunctionDefinition iterable object>]"
      ]
     },
     "execution_count": 53,
     "metadata": {},
     "output_type": "execute_result"
    }
   ],
   "source": [
    "node['A'].nodes"
   ]
  },
  {
   "cell_type": "code",
   "execution_count": 56,
   "metadata": {},
   "outputs": [
    {
     "name": "stdout",
     "output_type": "stream",
     "text": [
      "[0, 32, 56, 57, 86, 87, 100, 123, 147, 148, 205, 229, 272, 278]\n"
     ]
    }
   ],
   "source": [
    "with open(\"a/A.sol\", \"r\", encoding=\"utf-8\") as f:\n",
    "    lines = f.readlines()\n",
    "\n",
    "# def lineno_shift(lines:list[str])->list[int]:\n",
    "def lineno_shift(lines: 'list[str]') -> 'list[int]':\n",
    "    def calc_curr_shift(all_lines):\n",
    "        curr_len = 0\n",
    "        for line in all_lines:\n",
    "            yield curr_len\n",
    "            curr_len += len(line)\n",
    "    return list(calc_curr_shift(lines))\n",
    "\n",
    "line_shift = lineno_shift(lines)\n",
    "print(line_shift)"
   ]
  },
  {
   "cell_type": "code",
   "execution_count": 5,
   "metadata": {},
   "outputs": [
    {
     "name": "stdout",
     "output_type": "stream",
     "text": [
      "C.sol\n",
      "contract C {\n",
      "    uint public cData;\n",
      "    constructor(uint _cData) {\n",
      "        cData = _cData;\n",
      "    }\n",
      "}\n",
      "\n",
      "B.sol\n",
      "contract B {\n",
      "    uint public bData;\n",
      "    C public cContract;\n",
      "    constructor(uint _bData, uint _cData) {\n",
      "        bData = _bData;\n",
      "        cContract = new C(_cData);\n",
      "    }\n",
      "}\n",
      "\n",
      "1\n",
      "contract B {\n",
      "    uint public bData;\n",
      "    C public cContract;\n",
      "    constructor(uint _bData, uint _cData) {\n",
      "        bData = _bData;\n",
      "        cContract = new C(_cData);\n",
      "    }\n",
      "}\n",
      "\n",
      "C.sol\n",
      "contract C {\n",
      "    uint public cData;\n",
      "    constructor(uint _cData) {\n",
      "        cData = _cData;\n",
      "    }\n",
      "}\n",
      "\n",
      "<class 'str'>\n",
      "A.sol\n",
      "contract A {\n",
      "    uint public aData;\n",
      "    B public bContract;\n",
      "    constructor(uint _aData, uint _bData, uint _cData) {\n",
      "        aData = _aData;\n",
      "        bContract = new B(_bData, _cData);\n",
      "    }\n",
      "}\n",
      "\n",
      "1\n",
      "contract A {\n",
      "    uint public aData;\n",
      "    B public bContract;\n",
      "    constructor(uint _aData, uint _bData, uint _cData) {\n",
      "        aData = _aData;\n",
      "        bContract = new B(_bData, _cData);\n",
      "    }\n",
      "}\n",
      "\n",
      "B.sol\n",
      "contract B {\n",
      "    uint public bData;\n",
      "    C public cContract;\n",
      "    constructor(uint _bData, uint _cData) {\n",
      "        bData = _bData;\n",
      "        cContract = new C(_cData);\n",
      "    }\n",
      "}\n",
      "\n",
      "<class 'str'>\n",
      "C.sol\n",
      "contract C {\n",
      "    uint public cData;\n",
      "    constructor(uint _cData) {\n",
      "        cData = _cData;\n",
      "    }\n",
      "}\n",
      "\n",
      "B.sol\n",
      "contract B {\n",
      "    uint public bData;\n",
      "    C public cContract;\n",
      "    constructor(uint _bData, uint _cData) {\n",
      "        bData = _bData;\n",
      "        cContract = new C(_cData);\n",
      "    }\n",
      "}\n",
      "\n",
      "A.sol\n",
      "contract A {\n",
      "    uint public aData;\n",
      "    B public bContract;\n",
      "    constructor(uint _aData, uint _bData, uint _cData) {\n",
      "        aData = _aData;\n",
      "        bContract = new B(_bData, _cData);\n",
      "    }\n",
      "}\n",
      "\n"
     ]
    }
   ],
   "source": []
  }
 ],
 "metadata": {
  "kernelspec": {
   "display_name": "Python 3",
   "language": "python",
   "name": "python3"
  },
  "language_info": {
   "codemirror_mode": {
    "name": "ipython",
    "version": 3
   },
   "file_extension": ".py",
   "mimetype": "text/x-python",
   "name": "python",
   "nbconvert_exporter": "python",
   "pygments_lexer": "ipython3",
   "version": "3.8.10"
  }
 },
 "nbformat": 4,
 "nbformat_minor": 2
}
